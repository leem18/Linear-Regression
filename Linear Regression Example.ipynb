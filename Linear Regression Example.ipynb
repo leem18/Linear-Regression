{
 "cells": [
  {
   "cell_type": "markdown",
   "id": "a574c86d",
   "metadata": {},
   "source": [
    "# Linear Regression Example"
   ]
  },
  {
   "cell_type": "markdown",
   "id": "ca983c3d",
   "metadata": {},
   "source": [
    "In this example, we create a training set and find a linear model with the best fit to the set. First, we generate a training set of $N=1000$ points $\\{(x_i,y_i)\\}_{i=1}^N$ where $x_i$ are independent and uniformly distributed in $[0,1]$ and $y_i=2\\|x_i\\|^2+\\epsilon_i$ for $\\epsilon_i$ are uniformly distributed in $[-1,1]$."
   ]
  },
  {
   "cell_type": "code",
   "execution_count": 1,
   "id": "b2ddee98",
   "metadata": {},
   "outputs": [],
   "source": [
    "from matplotlib import pyplot as plt\n",
    "import numpy as np\n",
    "\n",
    "N = 1000\n",
    "\n",
    "x_train = np.random.rand(N, 2)\n",
    "eps = 2*(np.random.rand(N) - .5)\n",
    "y_train = 2*x_train[:,0]**2 + 2*x_train[:,1]**2 + eps"
   ]
  },
  {
   "cell_type": "markdown",
   "id": "5d6c72b6",
   "metadata": {},
   "source": [
    "Next, we use the $sklearn$ package to find the best linear model for the training set. The output $\\hat{\\beta}$ is the vector which will be used in the linear model $f(x)=\\langle{x},\\hat{\\beta}\\rangle$. \n",
    "By re-generating the training set and run this code multiple times, we can observe the changes on $\\hat{\\beta}$ depending on the training data."
   ]
  },
  {
   "cell_type": "code",
   "execution_count": 2,
   "id": "5e2821a7",
   "metadata": {},
   "outputs": [
    {
     "name": "stdout",
     "output_type": "stream",
     "text": [
      "beta_hat = [1.38519552 1.45869766]\n"
     ]
    }
   ],
   "source": [
    "from sklearn.linear_model import LinearRegression\n",
    "\n",
    "model = LinearRegression(fit_intercept=False)\n",
    "model.fit(x_train, y_train)\n",
    "beta_hat = model.coef_\n",
    "\n",
    "print(\"beta_hat = {}\".format(beta_hat))"
   ]
  },
  {
   "cell_type": "markdown",
   "id": "b0030a14",
   "metadata": {},
   "source": [
    "We also have an explicit formula for $\\hat{\\beta}$ based on least squares: $\\hat{\\beta}=(D^TD)^{-1}D^Ty$. Using this formula, we compute $\\hat{\\beta}$ and verify that it matches the ouput from $sklearn$ package."
   ]
  },
  {
   "cell_type": "code",
   "execution_count": 4,
   "id": "80cd7ff2",
   "metadata": {},
   "outputs": [
    {
     "name": "stdout",
     "output_type": "stream",
     "text": [
      "beta_hat computed using formula = [1.38519552 1.45869766]\n"
     ]
    }
   ],
   "source": [
    "beta_hat_formula = np.matmul(np.matmul(np.linalg.inv(np.matmul(x_train.transpose(), x_train)),x_train.transpose()),y_train)\n",
    "\n",
    "print(\"beta_hat computed using formula = {}\".format(beta_hat_formula))"
   ]
  }
 ],
 "metadata": {
  "kernelspec": {
   "display_name": "Python 3",
   "language": "python",
   "name": "python3"
  },
  "language_info": {
   "codemirror_mode": {
    "name": "ipython",
    "version": 3
   },
   "file_extension": ".py",
   "mimetype": "text/x-python",
   "name": "python",
   "nbconvert_exporter": "python",
   "pygments_lexer": "ipython3",
   "version": "3.8.8"
  }
 },
 "nbformat": 4,
 "nbformat_minor": 5
}
